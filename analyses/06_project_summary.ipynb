{
 "cells": [
  {
   "cell_type": "markdown",
   "id": "c186ab3f",
   "metadata": {},
   "source": [
    "# na for now"
   ]
  }
 ],
 "metadata": {
  "language_info": {
   "name": "python"
  }
 },
 "nbformat": 4,
 "nbformat_minor": 5
}
